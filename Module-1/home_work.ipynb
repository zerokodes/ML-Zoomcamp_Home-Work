{
 "cells": [
  {
   "cell_type": "code",
   "execution_count": 2,
   "id": "1b401fc7-0596-4e51-b1a4-6f951f547ea0",
   "metadata": {},
   "outputs": [],
   "source": [
    "import pandas as pd\n",
    "import numpy as np"
   ]
  },
  {
   "cell_type": "code",
   "execution_count": 3,
   "id": "0702139c-189c-4e9e-9e50-fe258db8738d",
   "metadata": {},
   "outputs": [
    {
     "data": {
      "text/plain": [
       "'2.1.4'"
      ]
     },
     "execution_count": 3,
     "metadata": {},
     "output_type": "execute_result"
    }
   ],
   "source": [
    "pd.__version__"
   ]
  },
  {
   "cell_type": "code",
   "execution_count": 4,
   "id": "cd5f8492-3b8d-4dfe-96b5-4e2619f912e1",
   "metadata": {},
   "outputs": [],
   "source": [
    "df = pd.read_csv('laptops.csv')"
   ]
  },
  {
   "cell_type": "code",
   "execution_count": 7,
   "id": "adc2f8a0-3166-433e-9dcf-2d77521a52ab",
   "metadata": {},
   "outputs": [
    {
     "data": {
      "text/plain": [
       "2160"
      ]
     },
     "execution_count": 7,
     "metadata": {},
     "output_type": "execute_result"
    }
   ],
   "source": [
    "len(df)"
   ]
  },
  {
   "cell_type": "code",
   "execution_count": 10,
   "id": "6fad2593-f89d-4a76-904b-0cffedeac43a",
   "metadata": {},
   "outputs": [
    {
     "data": {
      "text/plain": [
       "2160"
      ]
     },
     "execution_count": 10,
     "metadata": {},
     "output_type": "execute_result"
    }
   ],
   "source": [
    "len(df.Brand)"
   ]
  },
  {
   "cell_type": "code",
   "execution_count": 11,
   "id": "5090b1a7-9ac2-4e62-b457-e297a515e35f",
   "metadata": {},
   "outputs": [
    {
     "data": {
      "text/plain": [
       "Laptop             0\n",
       "Status             0\n",
       "Brand              0\n",
       "Model              0\n",
       "CPU                0\n",
       "RAM                0\n",
       "Storage            0\n",
       "Storage type      42\n",
       "GPU             1371\n",
       "Screen             4\n",
       "Touch              0\n",
       "Final Price        0\n",
       "dtype: int64"
      ]
     },
     "execution_count": 11,
     "metadata": {},
     "output_type": "execute_result"
    }
   ],
   "source": [
    "df.isnull().sum()"
   ]
  },
  {
   "cell_type": "code",
   "execution_count": 22,
   "id": "6bdce000-0f61-4b6b-b7a5-1a5babccbd7a",
   "metadata": {},
   "outputs": [
    {
     "data": {
      "text/html": [
       "<div>\n",
       "<style scoped>\n",
       "    .dataframe tbody tr th:only-of-type {\n",
       "        vertical-align: middle;\n",
       "    }\n",
       "\n",
       "    .dataframe tbody tr th {\n",
       "        vertical-align: top;\n",
       "    }\n",
       "\n",
       "    .dataframe thead th {\n",
       "        text-align: right;\n",
       "    }\n",
       "</style>\n",
       "<table border=\"1\" class=\"dataframe\">\n",
       "  <thead>\n",
       "    <tr style=\"text-align: right;\">\n",
       "      <th></th>\n",
       "      <th>Brand</th>\n",
       "      <th>Final Price</th>\n",
       "    </tr>\n",
       "  </thead>\n",
       "  <tbody>\n",
       "    <tr>\n",
       "      <th>0</th>\n",
       "      <td>Asus</td>\n",
       "      <td>1009.00</td>\n",
       "    </tr>\n",
       "    <tr>\n",
       "      <th>1</th>\n",
       "      <td>Alurin</td>\n",
       "      <td>299.00</td>\n",
       "    </tr>\n",
       "    <tr>\n",
       "      <th>2</th>\n",
       "      <td>Asus</td>\n",
       "      <td>789.00</td>\n",
       "    </tr>\n",
       "    <tr>\n",
       "      <th>3</th>\n",
       "      <td>MSI</td>\n",
       "      <td>1199.00</td>\n",
       "    </tr>\n",
       "    <tr>\n",
       "      <th>4</th>\n",
       "      <td>HP</td>\n",
       "      <td>669.01</td>\n",
       "    </tr>\n",
       "    <tr>\n",
       "      <th>...</th>\n",
       "      <td>...</td>\n",
       "      <td>...</td>\n",
       "    </tr>\n",
       "    <tr>\n",
       "      <th>2155</th>\n",
       "      <td>Razer</td>\n",
       "      <td>2699.99</td>\n",
       "    </tr>\n",
       "    <tr>\n",
       "      <th>2156</th>\n",
       "      <td>Razer</td>\n",
       "      <td>2899.99</td>\n",
       "    </tr>\n",
       "    <tr>\n",
       "      <th>2157</th>\n",
       "      <td>Razer</td>\n",
       "      <td>3399.99</td>\n",
       "    </tr>\n",
       "    <tr>\n",
       "      <th>2158</th>\n",
       "      <td>Razer</td>\n",
       "      <td>1899.99</td>\n",
       "    </tr>\n",
       "    <tr>\n",
       "      <th>2159</th>\n",
       "      <td>Razer</td>\n",
       "      <td>1699.99</td>\n",
       "    </tr>\n",
       "  </tbody>\n",
       "</table>\n",
       "<p>2160 rows × 2 columns</p>\n",
       "</div>"
      ],
      "text/plain": [
       "       Brand  Final Price\n",
       "0       Asus      1009.00\n",
       "1     Alurin       299.00\n",
       "2       Asus       789.00\n",
       "3        MSI      1199.00\n",
       "4         HP       669.01\n",
       "...      ...          ...\n",
       "2155   Razer      2699.99\n",
       "2156   Razer      2899.99\n",
       "2157   Razer      3399.99\n",
       "2158   Razer      1899.99\n",
       "2159   Razer      1699.99\n",
       "\n",
       "[2160 rows x 2 columns]"
      ]
     },
     "execution_count": 22,
     "metadata": {},
     "output_type": "execute_result"
    }
   ],
   "source": [
    "df[['Brand', 'Final Price']]"
   ]
  },
  {
   "cell_type": "code",
   "execution_count": 24,
   "id": "beef32e2-ddcf-4ecc-b4af-80e60a2380b4",
   "metadata": {},
   "outputs": [
    {
     "data": {
      "text/plain": [
       "(                                                 Laptop       Status Brand  \\\n",
       " 161   Dell Vostro 3510 Intel Core i3-1115G4/8 GB/256...          New  Dell   \n",
       " 271   Dell Vostro 3510 Intel Core i5-1135G7/8 GB/256...          New  Dell   \n",
       " 281   Dell Vostro 3520 Intel Core i7-1255U/16GB/512G...          New  Dell   \n",
       " 319   Dell Latitude 3520 Intel Core i5-1135G7/8GB/25...          New  Dell   \n",
       " 328   Dell Vostro 3510 Intel Core i5-1135G7/16 GB/51...          New  Dell   \n",
       " ...                                                 ...          ...   ...   \n",
       " 1843  Dell Vostro 5301 Intel Core i5-1135G7/8GB/256G...  Refurbished  Dell   \n",
       " 1844  Dell Vostro 5301 Intel Core i5-1135G7/8GB/512G...  Refurbished  Dell   \n",
       " 1845  Dell Vostro 5502 Intel Core i5-1135G7/8GB/512G...  Refurbished  Dell   \n",
       " 1846  Dell XPS 13 9300 Intel Core i5-1035G1/8GB/512G...  Refurbished  Dell   \n",
       " 1847  Dell XPS 7390 Intel Core i7-10510U/16GB/512GB ...  Refurbished  Dell   \n",
       " \n",
       "          Model            CPU  RAM  Storage Storage type  GPU  Screen Touch  \\\n",
       " 161     Vostro  Intel Core i3    8      256          SSD  NaN    15.6    No   \n",
       " 271     Vostro  Intel Core i5    8      256          SSD  NaN    15.6    No   \n",
       " 281     Vostro  Intel Core i7   16      512          SSD  NaN    15.6    No   \n",
       " 319   Latitude  Intel Core i5    8      256          SSD  NaN    15.6    No   \n",
       " 328     Vostro  Intel Core i5   16      512          SSD  NaN    15.6    No   \n",
       " ...        ...            ...  ...      ...          ...  ...     ...   ...   \n",
       " 1843    Vostro  Intel Core i5    8      256          SSD  NaN    13.3    No   \n",
       " 1844    Vostro  Intel Core i5    8      512          SSD  NaN    13.3    No   \n",
       " 1845    Vostro  Intel Core i5    8      512          SSD  NaN    15.6    No   \n",
       " 1846       XPS  Intel Core i5    8      512          SSD  NaN    13.4    No   \n",
       " 1847       XPS  Intel Core i7   16      512          SSD  NaN    13.3    No   \n",
       " \n",
       "       Final Price  \n",
       " 161        599.00  \n",
       " 271        690.15  \n",
       " 281        889.00  \n",
       " 319        789.00  \n",
       " 328        869.00  \n",
       " ...           ...  \n",
       " 1843       420.74  \n",
       " 1844       511.59  \n",
       " 1845       549.93  \n",
       " 1846       699.00  \n",
       " 1847      1086.88  \n",
       " \n",
       " [84 rows x 12 columns],)"
      ]
     },
     "execution_count": 24,
     "metadata": {},
     "output_type": "execute_result"
    }
   ],
   "source": [
    "df[df[\"Brand\"] == 'Dell'],\n"
   ]
  },
  {
   "cell_type": "code",
   "execution_count": 25,
   "id": "a39e81a4-d8be-4db0-a0a6-027f397a881d",
   "metadata": {},
   "outputs": [],
   "source": [
    "dell_notebooks = df[df['Brand'] == 'Dell']"
   ]
  },
  {
   "cell_type": "code",
   "execution_count": 26,
   "id": "9dc1acfb-0d3a-496d-8cc7-d438f9220056",
   "metadata": {},
   "outputs": [
    {
     "data": {
      "text/html": [
       "<div>\n",
       "<style scoped>\n",
       "    .dataframe tbody tr th:only-of-type {\n",
       "        vertical-align: middle;\n",
       "    }\n",
       "\n",
       "    .dataframe tbody tr th {\n",
       "        vertical-align: top;\n",
       "    }\n",
       "\n",
       "    .dataframe thead th {\n",
       "        text-align: right;\n",
       "    }\n",
       "</style>\n",
       "<table border=\"1\" class=\"dataframe\">\n",
       "  <thead>\n",
       "    <tr style=\"text-align: right;\">\n",
       "      <th></th>\n",
       "      <th>Brand</th>\n",
       "      <th>Final Price</th>\n",
       "    </tr>\n",
       "  </thead>\n",
       "  <tbody>\n",
       "    <tr>\n",
       "      <th>161</th>\n",
       "      <td>Dell</td>\n",
       "      <td>599.00</td>\n",
       "    </tr>\n",
       "    <tr>\n",
       "      <th>271</th>\n",
       "      <td>Dell</td>\n",
       "      <td>690.15</td>\n",
       "    </tr>\n",
       "    <tr>\n",
       "      <th>281</th>\n",
       "      <td>Dell</td>\n",
       "      <td>889.00</td>\n",
       "    </tr>\n",
       "    <tr>\n",
       "      <th>319</th>\n",
       "      <td>Dell</td>\n",
       "      <td>789.00</td>\n",
       "    </tr>\n",
       "    <tr>\n",
       "      <th>328</th>\n",
       "      <td>Dell</td>\n",
       "      <td>869.00</td>\n",
       "    </tr>\n",
       "    <tr>\n",
       "      <th>...</th>\n",
       "      <td>...</td>\n",
       "      <td>...</td>\n",
       "    </tr>\n",
       "    <tr>\n",
       "      <th>1843</th>\n",
       "      <td>Dell</td>\n",
       "      <td>420.74</td>\n",
       "    </tr>\n",
       "    <tr>\n",
       "      <th>1844</th>\n",
       "      <td>Dell</td>\n",
       "      <td>511.59</td>\n",
       "    </tr>\n",
       "    <tr>\n",
       "      <th>1845</th>\n",
       "      <td>Dell</td>\n",
       "      <td>549.93</td>\n",
       "    </tr>\n",
       "    <tr>\n",
       "      <th>1846</th>\n",
       "      <td>Dell</td>\n",
       "      <td>699.00</td>\n",
       "    </tr>\n",
       "    <tr>\n",
       "      <th>1847</th>\n",
       "      <td>Dell</td>\n",
       "      <td>1086.88</td>\n",
       "    </tr>\n",
       "  </tbody>\n",
       "</table>\n",
       "<p>84 rows × 2 columns</p>\n",
       "</div>"
      ],
      "text/plain": [
       "     Brand  Final Price\n",
       "161   Dell       599.00\n",
       "271   Dell       690.15\n",
       "281   Dell       889.00\n",
       "319   Dell       789.00\n",
       "328   Dell       869.00\n",
       "...    ...          ...\n",
       "1843  Dell       420.74\n",
       "1844  Dell       511.59\n",
       "1845  Dell       549.93\n",
       "1846  Dell       699.00\n",
       "1847  Dell      1086.88\n",
       "\n",
       "[84 rows x 2 columns]"
      ]
     },
     "execution_count": 26,
     "metadata": {},
     "output_type": "execute_result"
    }
   ],
   "source": [
    "dell_notebooks[['Brand', 'Final Price']]"
   ]
  },
  {
   "cell_type": "code",
   "execution_count": 27,
   "id": "63cdf123-2ac3-41f8-a5f2-82483e091881",
   "metadata": {},
   "outputs": [],
   "source": [
    "max_price_dell = dell_notebooks.loc[dell_notebooks['Final Price'].idxmax()]"
   ]
  },
  {
   "cell_type": "code",
   "execution_count": 28,
   "id": "8e08210d-314d-4279-881c-82dc9bb9f43d",
   "metadata": {},
   "outputs": [
    {
     "data": {
      "text/plain": [
       "Laptop          Dell Precision 5770 Intel Core i7-12700H/16GB/...\n",
       "Status                                                        New\n",
       "Brand                                                        Dell\n",
       "Model                                                   Precision\n",
       "CPU                                                 Intel Core i7\n",
       "RAM                                                            16\n",
       "Storage                                                       512\n",
       "Storage type                                                  SSD\n",
       "GPU                                                     RTX A2000\n",
       "Screen                                                       17.0\n",
       "Touch                                                         Yes\n",
       "Final Price                                                3936.0\n",
       "Name: 1335, dtype: object"
      ]
     },
     "execution_count": 28,
     "metadata": {},
     "output_type": "execute_result"
    }
   ],
   "source": [
    "max_price_dell"
   ]
  },
  {
   "cell_type": "code",
   "execution_count": 29,
   "id": "7a230642-cff5-4979-ba18-2b6dd6020502",
   "metadata": {},
   "outputs": [],
   "source": [
    "median_screen = df['Screen'].median()"
   ]
  },
  {
   "cell_type": "code",
   "execution_count": 30,
   "id": "5eec6996-9513-44e5-8dd2-adc9f7cde2dc",
   "metadata": {},
   "outputs": [
    {
     "data": {
      "text/plain": [
       "15.6"
      ]
     },
     "execution_count": 30,
     "metadata": {},
     "output_type": "execute_result"
    }
   ],
   "source": [
    "median_screen"
   ]
  },
  {
   "cell_type": "code",
   "execution_count": 31,
   "id": "868c69e5-160a-4a24-a548-fa73c338ec85",
   "metadata": {},
   "outputs": [],
   "source": [
    "most_frequent_screen = df['Screen'].mode()[0]"
   ]
  },
  {
   "cell_type": "code",
   "execution_count": 32,
   "id": "d4f42fa0-58a1-49f7-9eeb-0d0cebc32ea8",
   "metadata": {},
   "outputs": [
    {
     "data": {
      "text/plain": [
       "15.6"
      ]
     },
     "execution_count": 32,
     "metadata": {},
     "output_type": "execute_result"
    }
   ],
   "source": [
    "most_frequent_screen"
   ]
  },
  {
   "cell_type": "code",
   "execution_count": 33,
   "id": "e000552c-09a8-4bbe-a7f4-109f683546b2",
   "metadata": {},
   "outputs": [],
   "source": [
    "df['Screen'] = df['Screen'].fillna(most_frequent_screen)"
   ]
  },
  {
   "cell_type": "code",
   "execution_count": 34,
   "id": "e5c9cc0b-0a37-4e5f-86aa-a11827c07863",
   "metadata": {},
   "outputs": [
    {
     "data": {
      "text/plain": [
       "0"
      ]
     },
     "execution_count": 34,
     "metadata": {},
     "output_type": "execute_result"
    }
   ],
   "source": [
    "df['Screen'].isnull().sum()"
   ]
  },
  {
   "cell_type": "code",
   "execution_count": 35,
   "id": "0204e159-f7c3-4908-92e1-bf30e5b17bf6",
   "metadata": {},
   "outputs": [],
   "source": [
    "median_screen = df['Screen'].median()"
   ]
  },
  {
   "cell_type": "code",
   "execution_count": 36,
   "id": "d9f6bf7c-301b-4cd1-b741-f267f33c217a",
   "metadata": {},
   "outputs": [
    {
     "data": {
      "text/plain": [
       "15.6"
      ]
     },
     "execution_count": 36,
     "metadata": {},
     "output_type": "execute_result"
    }
   ],
   "source": [
    "median_screen"
   ]
  },
  {
   "cell_type": "code",
   "execution_count": null,
   "id": "1c8313e4-559f-4dc3-b151-a053dcb4c92a",
   "metadata": {},
   "outputs": [],
   "source": []
  }
 ],
 "metadata": {
  "kernelspec": {
   "display_name": "Python 3 (ipykernel)",
   "language": "python",
   "name": "python3"
  },
  "language_info": {
   "codemirror_mode": {
    "name": "ipython",
    "version": 3
   },
   "file_extension": ".py",
   "mimetype": "text/x-python",
   "name": "python",
   "nbconvert_exporter": "python",
   "pygments_lexer": "ipython3",
   "version": "3.9.18"
  }
 },
 "nbformat": 4,
 "nbformat_minor": 5
}
